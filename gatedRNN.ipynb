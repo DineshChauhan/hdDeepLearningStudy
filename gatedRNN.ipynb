{
 "cells": [
  {
   "cell_type": "markdown",
   "metadata": {},
   "source": [
    "# Gated Feedback RNN - Notes\n",
    "\n",
    "Paper's notation\n",
    "input is $x_t$\n",
    "\n",
    "\n",
    "\n",
    "\n",
    "Zaremba (2014) variant of LSTM\n",
    "$$\\tilde{c_t} = tanh(W_c x_t + U_c h_{t-1})\\,-\\,new\\,content$$\n",
    "$$c_t = f_tc_{t-1} + i_t \\tilde{c_t}\\,-\\, content\\,of\\,memory\\,cell$$\n",
    "$$i_t = \\sigma(W_ix_t+U_ih_{t-1})\\,-\\,input\\,gate$$\n",
    "$$f_t = \\sigma(W_fx_t+U_fh_{t-1})\\,-\\,forget\\,gate$$\n",
    "$$h_t = o_ttanh(c_t)\\,-\\,hidden \\, state$$\n",
    "$$o_t = \\sigma(W_ox_t + U_oh_{t-1})\\,-\\,output\\,gate$$\n",
    "\n",
    "Modification for Gated Feedback LSTM\n",
    "$$\\tilde{c_t^j} = tanh(W_c^{j-1\\rightarrow j}h_t^{j-1} + \\sum_{i=1}^L g^{i\\rightarrow j}U_c^{i\\rightarrow j}h_{t-1}^i)$$\n",
    "\n",
    "\n",
    "Gated Recurrent Unit, Cho (2014)\n",
    "$$h_t = (1-z_t)h_{t-1}+z_t \\tilde{h_t}\\,-\\,GRU\\, state$$\n",
    "$$z_t = \\sigma(W_zx_t+U_zh_{t-1})\\,-\\, update\\,gate$$\n",
    "$$\\tilde{h_t} = tanh(Wx_t + r_tUh_{t-1})\\,-\\,new\\,memory\\,content$$\n",
    "$$r_t = \\sigma(W_rx_t + U_rh_{t-1})\\,-\\,reset\\,gate$$\n",
    "\n",
    "Modification for Gated Feedback GRU\n",
    "$$\\tilde{h_t^j} = tanh(W^{j-1\\rightarrow j}h_t^{j-1} + r_t^j \\odot \\sum_{i=1}^L g^{i\\rightarrow j}U_c^{i\\rightarrow j}h_{t-1}^i)$$\n",
    "\n",
    "\n",
    "\n",
    "\n",
    "## Elman net\n",
    "\n",
    "\n",
    "$$h_t = W_hx_t+U_hh_{t-1}\\,-\\,hidden \\, state$$\n",
    "\n",
    "2-Layer Elman-RNN\n",
    "$$h_t^1 = W_h^1x_t+U_h^1h_{t-1}^1\\,-\\,hidden \\, state\\,1$$\n",
    "$$h_t^2 = W_h^2h_t^1+U_h^2h_{t-1}^2\\,-\\,hidden \\, state\\,2$$\n",
    "\n",
    "2-Layer gated feedback RNN - GF-RNN = 2-layer Elman-RNN plus\n",
    "$$g^{1\\rightarrow2} = \\sigma(W_g^{1\\rightarrow2}h_t^1 + U_g^{1\\rightarrow2}\\left[\\begin{array}{c}\n",
    "h_{t-1}^1\\\\\n",
    "h_{t-1}^2\\end{array}\\right])$$\n",
    "$$g^{2\\rightarrow1} = \\sigma(W_g^{2\\rightarrow1}x_t + U_g^{2\\rightarrow1}\\left[\\begin{array}{c}\n",
    "h_{t-1}^1\\\\\n",
    "h_{t-1}^2\\end{array}\\right])$$\n",
    "\n",
    "Assuming that\n",
    "$$h_{t-1}^*=\\left[\\begin{array}{c}\n",
    "h_{t-1}^1\\\\\n",
    "h_{t-1}^2\\end{array}\\right]$$\n",
    "\n",
    "Layer-by-layer state - \n",
    "$$h_t^j = tanh(W^{j-1\\rightarrow j}h_t^{j-1} + \\sum_{i=1}^L g^{i\\rightarrow j}U^{i\\rightarrow j}h_{t-1}^i)$$\n",
    "\n",
    "For 2-layer gated rf Elman - \n",
    "$$h_t^1 = tanh(W^{0\\rightarrow 1}x_t + g^{1\\rightarrow 1}U^{1\\rightarrow 1}h_{t-1}^1 + g^{2\\rightarrow 1}U^{2\\rightarrow 1}h_{t-1}^2)$$\n",
    "$$h_t^2 = tanh(W^{1\\rightarrow 2}h_t^1 + g^{1\\rightarrow 2}U^{1\\rightarrow 2}h_{t-1}^1 + g^{2\\rightarrow 2}U^{2\\rightarrow 2}h_{t-1}^2)$$\n",
    "\n"
   ]
  },
  {
   "cell_type": "code",
   "execution_count": null,
   "metadata": {
    "collapsed": true
   },
   "outputs": [],
   "source": []
  }
 ],
 "metadata": {
  "kernelspec": {
   "display_name": "Python 2",
   "language": "python",
   "name": "python2"
  },
  "language_info": {
   "codemirror_mode": {
    "name": "ipython",
    "version": 2
   },
   "file_extension": ".py",
   "mimetype": "text/x-python",
   "name": "python",
   "nbconvert_exporter": "python",
   "pygments_lexer": "ipython2",
   "version": "2.7.11"
  }
 },
 "nbformat": 4,
 "nbformat_minor": 0
}
